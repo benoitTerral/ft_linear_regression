{
 "cells": [
  {
   "attachments": {},
   "cell_type": "markdown",
   "id": "eeb16cf8",
   "metadata": {
    "papermill": {
     "duration": 0.006765,
     "end_time": "2023-07-11T07:20:16.563143",
     "exception": false,
     "start_time": "2023-07-11T07:20:16.556378",
     "status": "completed"
    },
    "tags": []
   },
   "source": [
    "# ft_linear_regression"
   ]
  },
  {
   "attachments": {},
   "cell_type": "markdown",
   "id": "0091bea4",
   "metadata": {
    "papermill": {
     "duration": 0.004553,
     "end_time": "2023-07-11T07:20:16.576422",
     "exception": false,
     "start_time": "2023-07-11T07:20:16.571869",
     "status": "completed"
    },
    "tags": []
   },
   "source": [
    "## Import libraries"
   ]
  },
  {
   "cell_type": "code",
   "execution_count": 1,
   "id": "6730ab4c",
   "metadata": {
    "execution": {
     "iopub.execute_input": "2023-07-11T07:20:16.583498Z",
     "iopub.status.busy": "2023-07-11T07:20:16.583055Z",
     "iopub.status.idle": "2023-07-11T07:20:17.067682Z",
     "shell.execute_reply": "2023-07-11T07:20:17.067162Z"
    },
    "papermill": {
     "duration": 0.489116,
     "end_time": "2023-07-11T07:20:17.068842",
     "exception": false,
     "start_time": "2023-07-11T07:20:16.579726",
     "status": "completed"
    },
    "tags": []
   },
   "outputs": [],
   "source": [
    "import pandas as pd\n",
    "import numpy as np\n",
    "import matplotlib.pyplot as plt\n",
    "import sys\n",
    "sys.path.append('..')\n",
    "from library.model import model, \\\n",
    "\tcost_function, gradient_descent, coeff_determination\n",
    "import pickle"
   ]
  },
  {
   "attachments": {},
   "cell_type": "markdown",
   "id": "57f1fdc0",
   "metadata": {
    "papermill": {
     "duration": 0.002643,
     "end_time": "2023-07-11T07:20:17.073764",
     "exception": false,
     "start_time": "2023-07-11T07:20:17.071121",
     "status": "completed"
    },
    "tags": []
   },
   "source": [
    "## Load dataset"
   ]
  },
  {
   "cell_type": "code",
   "execution_count": 2,
   "id": "5a47e0ed",
   "metadata": {
    "execution": {
     "iopub.execute_input": "2023-07-11T07:20:17.078174Z",
     "iopub.status.busy": "2023-07-11T07:20:17.077909Z",
     "iopub.status.idle": "2023-07-11T07:20:17.220746Z",
     "shell.execute_reply": "2023-07-11T07:20:17.220304Z"
    },
    "papermill": {
     "duration": 0.146042,
     "end_time": "2023-07-11T07:20:17.221568",
     "exception": false,
     "start_time": "2023-07-11T07:20:17.075526",
     "status": "completed"
    },
    "tags": []
   },
   "outputs": [
    {
     "data": {
      "image/png": "[encoded data removed]",
      "text/plain": [
       "<Figure size 640x480 with 1 Axes>"
      ]
     },
     "metadata": {},
     "output_type": "display_data"
    }
   ],
   "source": [
    "df = pd.read_csv('../data.csv')\n",
    "df.shape\n",
    "plt.scatter(df['km'], df['price'])\n",
    "plt.xlabel('km')\n",
    "plt.ylabel('price')\n",
    "plt.title('Used car: price determined by mileage')\n",
    "plt.show()"
   ]
  },
  {
   "attachments": {},
   "cell_type": "markdown",
   "id": "b4c408c8",
   "metadata": {
    "papermill": {
     "duration": 0.008971,
     "end_time": "2023-07-11T07:20:17.233045",
     "exception": false,
     "start_time": "2023-07-11T07:20:17.224074",
     "status": "completed"
    },
    "tags": []
   },
   "source": [
    "- <strong>feature</strong>: km\n",
    "- <strong>target</strong>: price\n",
    "- <strong>m</strong>: 24\n",
    "- <strong>n</strong>: 1"
   ]
  },
  {
   "attachments": {},
   "cell_type": "markdown",
   "id": "a966eb55",
   "metadata": {
    "papermill": {
     "duration": 0.003925,
     "end_time": "2023-07-11T07:20:17.243926",
     "exception": false,
     "start_time": "2023-07-11T07:20:17.240001",
     "status": "completed"
    },
    "tags": []
   },
   "source": [
    "## Apply formula to dataset"
   ]
  },
  {
   "cell_type": "code",
   "execution_count": 3,
   "id": "669cf4e9",
   "metadata": {
    "execution": {
     "iopub.execute_input": "2023-07-11T07:20:17.254732Z",
     "iopub.status.busy": "2023-07-11T07:20:17.254425Z",
     "iopub.status.idle": "2023-07-11T07:20:17.259146Z",
     "shell.execute_reply": "2023-07-11T07:20:17.258711Z"
    },
    "papermill": {
     "duration": 0.01194,
     "end_time": "2023-07-11T07:20:17.260149",
     "exception": false,
     "start_time": "2023-07-11T07:20:17.248209",
     "status": "completed"
    },
    "tags": []
   },
   "outputs": [
    {
     "name": "stdout",
     "output_type": "stream",
     "text": [
      "(24,)\n",
      "(24,)\n",
      "[3650. 3800. 4400. 4450. 5250. 5350. 5800. 5990. 5999. 6200. 6390. 6390.\n",
      " 6600. 6800. 6800. 6900. 6900. 6990. 7490. 7555. 7990. 7990. 7990. 8290.]\n"
     ]
    }
   ],
   "source": [
    "x = np.array(df['km'], dtype = float)\n",
    "y = np.array(df['price'], dtype = float)\n",
    "x_min = np.min(x)\n",
    "x_range = np.max(x) - x_min\n",
    "x = (x - x_min) / x_range\n",
    "\n",
    "print(x.shape)\n",
    "print(y.shape)\n",
    "print(y)"
   ]
  },
  {
   "cell_type": "code",
   "execution_count": 4,
   "id": "19fc0783",
   "metadata": {
    "execution": {
     "iopub.execute_input": "2023-07-11T07:20:17.267573Z",
     "iopub.status.busy": "2023-07-11T07:20:17.267322Z",
     "iopub.status.idle": "2023-07-11T07:20:17.270556Z",
     "shell.execute_reply": "2023-07-11T07:20:17.270241Z"
    },
    "papermill": {
     "duration": 0.007644,
     "end_time": "2023-07-11T07:20:17.271392",
     "exception": false,
     "start_time": "2023-07-11T07:20:17.263748",
     "status": "completed"
    },
    "tags": []
   },
   "outputs": [
    {
     "name": "stdout",
     "output_type": "stream",
     "text": [
      "[[3650.]\n",
      " [3800.]\n",
      " [4400.]\n",
      " [4450.]\n",
      " [5250.]\n",
      " [5350.]\n",
      " [5800.]\n",
      " [5990.]\n",
      " [5999.]\n",
      " [6200.]\n",
      " [6390.]\n",
      " [6390.]\n",
      " [6600.]\n",
      " [6800.]\n",
      " [6800.]\n",
      " [6900.]\n",
      " [6900.]\n",
      " [6990.]\n",
      " [7490.]\n",
      " [7555.]\n",
      " [7990.]\n",
      " [7990.]\n",
      " [7990.]\n",
      " [8290.]]\n",
      "(24, 2)\n",
      "(24, 1)\n"
     ]
    }
   ],
   "source": [
    "y = y.reshape(y.shape[0], 1)\n",
    "X = x.reshape(x.shape[0], 1)\n",
    "X = np.hstack((X, np.ones(X.shape)))\n",
    "# print(X)\n",
    "print(y)\n",
    "print(X.shape)\n",
    "print(y.shape)"
   ]
  },
  {
   "cell_type": "code",
   "execution_count": 5,
   "id": "eb8a8d11",
   "metadata": {
    "execution": {
     "iopub.execute_input": "2023-07-11T07:20:17.276754Z",
     "iopub.status.busy": "2023-07-11T07:20:17.276616Z",
     "iopub.status.idle": "2023-07-11T07:20:17.279038Z",
     "shell.execute_reply": "2023-07-11T07:20:17.278761Z"
    },
    "papermill": {
     "duration": 0.006104,
     "end_time": "2023-07-11T07:20:17.279787",
     "exception": false,
     "start_time": "2023-07-11T07:20:17.273683",
     "status": "completed"
    },
    "tags": []
   },
   "outputs": [
    {
     "name": "stdout",
     "output_type": "stream",
     "text": [
      "[[0.37676148]\n",
      " [0.21080909]]\n"
     ]
    }
   ],
   "source": [
    "theta = np.random.randn(2, 1)\n",
    "print(theta)"
   ]
  },
  {
   "cell_type": "code",
   "execution_count": 6,
   "id": "420006d7",
   "metadata": {
    "execution": {
     "iopub.execute_input": "2023-07-11T07:20:17.285457Z",
     "iopub.status.busy": "2023-07-11T07:20:17.285284Z",
     "iopub.status.idle": "2023-07-11T07:20:17.349610Z",
     "shell.execute_reply": "2023-07-11T07:20:17.349272Z"
    },
    "papermill": {
     "duration": 0.068562,
     "end_time": "2023-07-11T07:20:17.350664",
     "exception": false,
     "start_time": "2023-07-11T07:20:17.282102",
     "status": "completed"
    },
    "tags": []
   },
   "outputs": [
    {
     "data": {
      "image/png": "[encoded data removed]",
      "text/plain": [
       "<Figure size 640x480 with 1 Axes>"
      ]
     },
     "metadata": {},
     "output_type": "display_data"
    }
   ],
   "source": [
    "plt.scatter(x, y)\n",
    "plt.plot(x, X.dot(theta))\n",
    "plt.show()"
   ]
  },
  {
   "cell_type": "code",
   "execution_count": 7,
   "id": "94b43ee0",
   "metadata": {
    "execution": {
     "iopub.execute_input": "2023-07-11T07:20:17.362264Z",
     "iopub.status.busy": "2023-07-11T07:20:17.362021Z",
     "iopub.status.idle": "2023-07-11T07:20:17.365957Z",
     "shell.execute_reply": "2023-07-11T07:20:17.365565Z"
    },
    "papermill": {
     "duration": 0.014705,
     "end_time": "2023-07-11T07:20:17.369904",
     "exception": false,
     "start_time": "2023-07-11T07:20:17.355199",
     "status": "completed"
    },
    "tags": []
   },
   "outputs": [
    {
     "data": {
      "text/plain": [
       "20878424.590010997"
      ]
     },
     "execution_count": 7,
     "metadata": {},
     "output_type": "execute_result"
    }
   ],
   "source": [
    "cost_function(X, y, theta)"
   ]
  },
  {
   "attachments": {},
   "cell_type": "markdown",
   "id": "ed55261b",
   "metadata": {
    "papermill": {
     "duration": 0.004511,
     "end_time": "2023-07-11T07:20:17.378983",
     "exception": false,
     "start_time": "2023-07-11T07:20:17.374472",
     "status": "completed"
    },
    "tags": []
   },
   "source": [
    "## Train the model"
   ]
  },
  {
   "cell_type": "code",
   "execution_count": 8,
   "id": "821ccb1e",
   "metadata": {
    "execution": {
     "iopub.execute_input": "2023-07-11T07:20:17.388657Z",
     "iopub.status.busy": "2023-07-11T07:20:17.388353Z",
     "iopub.status.idle": "2023-07-11T07:20:17.400499Z",
     "shell.execute_reply": "2023-07-11T07:20:17.400160Z"
    },
    "papermill": {
     "duration": 0.017972,
     "end_time": "2023-07-11T07:20:17.401344",
     "exception": false,
     "start_time": "2023-07-11T07:20:17.383372",
     "status": "completed"
    },
    "tags": []
   },
   "outputs": [],
   "source": [
    "theta_final, cost_history = gradient_descent(X, y, theta, learning_rate \n",
    "                               = 0.5, n_iterations = 1000)"
   ]
  },
  {
   "cell_type": "code",
   "execution_count": 9,
   "id": "296a2141",
   "metadata": {
    "execution": {
     "iopub.execute_input": "2023-07-11T07:20:17.407378Z",
     "iopub.status.busy": "2023-07-11T07:20:17.407202Z",
     "iopub.status.idle": "2023-07-11T07:20:17.410534Z",
     "shell.execute_reply": "2023-07-11T07:20:17.410067Z"
    },
    "papermill": {
     "duration": 0.007528,
     "end_time": "2023-07-11T07:20:17.411491",
     "exception": false,
     "start_time": "2023-07-11T07:20:17.403963",
     "status": "completed"
    },
    "tags": []
   },
   "outputs": [
    {
     "data": {
      "text/plain": [
       "array([[-4656.59144464],\n",
       "       [ 8008.43983262]])"
      ]
     },
     "execution_count": 9,
     "metadata": {},
     "output_type": "execute_result"
    }
   ],
   "source": [
    "theta_final"
   ]
  },
  {
   "cell_type": "code",
   "execution_count": 10,
   "id": "32e94a4e",
   "metadata": {
    "execution": {
     "iopub.execute_input": "2023-07-11T07:20:17.418786Z",
     "iopub.status.busy": "2023-07-11T07:20:17.418588Z",
     "iopub.status.idle": "2023-07-11T07:20:17.423131Z",
     "shell.execute_reply": "2023-07-11T07:20:17.422671Z"
    },
    "papermill": {
     "duration": 0.009892,
     "end_time": "2023-07-11T07:20:17.424440",
     "exception": false,
     "start_time": "2023-07-11T07:20:17.414548",
     "status": "completed"
    },
    "tags": []
   },
   "outputs": [
    {
     "data": {
      "text/plain": [
       "222822.6225356367"
      ]
     },
     "execution_count": 10,
     "metadata": {},
     "output_type": "execute_result"
    }
   ],
   "source": [
    "cost_function(X, y, theta_final)"
   ]
  },
  {
   "cell_type": "code",
   "execution_count": 11,
   "id": "801c206a",
   "metadata": {
    "execution": {
     "iopub.execute_input": "2023-07-11T07:20:17.434788Z",
     "iopub.status.busy": "2023-07-11T07:20:17.434609Z",
     "iopub.status.idle": "2023-07-11T07:20:17.437401Z",
     "shell.execute_reply": "2023-07-11T07:20:17.436796Z"
    },
    "papermill": {
     "duration": 0.009366,
     "end_time": "2023-07-11T07:20:17.438628",
     "exception": false,
     "start_time": "2023-07-11T07:20:17.429262",
     "status": "completed"
    },
    "tags": []
   },
   "outputs": [],
   "source": [
    "predictions = model(X, theta_final)"
   ]
  },
  {
   "cell_type": "code",
   "execution_count": 12,
   "id": "178b8c47",
   "metadata": {
    "execution": {
     "iopub.execute_input": "2023-07-11T07:20:17.450177Z",
     "iopub.status.busy": "2023-07-11T07:20:17.449433Z",
     "iopub.status.idle": "2023-07-11T07:20:17.516636Z",
     "shell.execute_reply": "2023-07-11T07:20:17.516132Z"
    },
    "papermill": {
     "duration": 0.074811,
     "end_time": "2023-07-11T07:20:17.518157",
     "exception": false,
     "start_time": "2023-07-11T07:20:17.443346",
     "status": "completed"
    },
    "tags": []
   },
   "outputs": [
    {
     "data": {
      "image/png": "[encoded data removed]",
      "text/plain": [
       "<Figure size 640x480 with 1 Axes>"
      ]
     },
     "metadata": {},
     "output_type": "display_data"
    }
   ],
   "source": [
    "plt.scatter(df['km'], df['price'])\n",
    "plt.plot(df['km'], predictions)\n",
    "plt.show()"
   ]
  },
  {
   "cell_type": "code",
   "execution_count": 13,
   "id": "0e4b4a1c",
   "metadata": {
    "execution": {
     "iopub.execute_input": "2023-07-11T07:20:17.539184Z",
     "iopub.status.busy": "2023-07-11T07:20:17.536532Z",
     "iopub.status.idle": "2023-07-11T07:20:17.605427Z",
     "shell.execute_reply": "2023-07-11T07:20:17.605008Z"
    },
    "papermill": {
     "duration": 0.082432,
     "end_time": "2023-07-11T07:20:17.606300",
     "exception": false,
     "start_time": "2023-07-11T07:20:17.523868",
     "status": "completed"
    },
    "tags": []
   },
   "outputs": [
    {
     "data": {
      "text/plain": [
       "[<matplotlib.lines.Line2D at 0x7f4748fdf610>]"
      ]
     },
     "execution_count": 13,
     "metadata": {},
     "output_type": "execute_result"
    },
    {
     "data": {
      "image/png": "[encoded data removed]",
      "text/plain": [
       "<Figure size 640x480 with 1 Axes>"
      ]
     },
     "metadata": {},
     "output_type": "display_data"
    }
   ],
   "source": [
    "plt.plot(range(1000), cost_history)"
   ]
  },
  {
   "cell_type": "code",
   "execution_count": 14,
   "id": "073808d5",
   "metadata": {
    "execution": {
     "iopub.execute_input": "2023-07-11T07:20:17.613630Z",
     "iopub.status.busy": "2023-07-11T07:20:17.613226Z",
     "iopub.status.idle": "2023-07-11T07:20:17.616409Z",
     "shell.execute_reply": "2023-07-11T07:20:17.615925Z"
    },
    "papermill": {
     "duration": 0.007707,
     "end_time": "2023-07-11T07:20:17.617299",
     "exception": false,
     "start_time": "2023-07-11T07:20:17.609592",
     "status": "completed"
    },
    "tags": []
   },
   "outputs": [
    {
     "data": {
      "text/plain": [
       "0.7329747078314965"
      ]
     },
     "execution_count": 14,
     "metadata": {},
     "output_type": "execute_result"
    }
   ],
   "source": [
    "coeff_determination(y, predictions)"
   ]
  },
  {
   "cell_type": "markdown",
   "id": "47004e9f",
   "metadata": {
    "papermill": {
     "duration": 0.003162,
     "end_time": "2023-07-11T07:20:17.623664",
     "exception": false,
     "start_time": "2023-07-11T07:20:17.620502",
     "status": "completed"
    },
    "tags": []
   },
   "source": [
    "## Creation of a pickle"
   ]
  },
  {
   "cell_type": "code",
   "execution_count": 15,
   "id": "00581ede",
   "metadata": {
    "execution": {
     "iopub.execute_input": "2023-07-11T07:20:17.633927Z",
     "iopub.status.busy": "2023-07-11T07:20:17.633473Z",
     "iopub.status.idle": "2023-07-11T07:20:17.637129Z",
     "shell.execute_reply": "2023-07-11T07:20:17.636692Z"
    },
    "papermill": {
     "duration": 0.01142,
     "end_time": "2023-07-11T07:20:17.638316",
     "exception": false,
     "start_time": "2023-07-11T07:20:17.626896",
     "status": "completed"
    },
    "tags": []
   },
   "outputs": [],
   "source": [
    "output_file = 'trained_model.pkl'\n",
    "model_results = {\n",
    "\t'theta': theta_final,\n",
    "    'x_min': x_min,\n",
    "    'x_range': x_range\n",
    "}\n",
    "\n",
    "with open(output_file, 'wb') as f:\n",
    "    pickle.dump(model_results, f)"
   ]
  }
 ],
 "metadata": {
  "kernelspec": {
   "display_name": "Python 3",
   "language": "python",
   "name": "python3"
  },
  "language_info": {
   "codemirror_mode": {
    "name": "ipython",
    "version": 3
   },
   "file_extension": ".py",
   "mimetype": "text/x-python",
   "name": "python",
   "nbconvert_exporter": "python",
   "pygments_lexer": "ipython3",
   "version": "3.10.6"
  },
  "papermill": {
   "default_parameters": {},
   "duration": 2.192634,
   "end_time": "2023-07-11T07:20:17.960156",
   "environment_variables": {},
   "exception": null,
   "input_path": "../notebook/train.ipynb",
   "output_path": "../notebook/train.ipynb",
   "parameters": {},
   "start_time": "2023-07-11T07:20:15.767522",
   "version": "2.4.0"
  }
 },
 "nbformat": 4,
 "nbformat_minor": 5
}