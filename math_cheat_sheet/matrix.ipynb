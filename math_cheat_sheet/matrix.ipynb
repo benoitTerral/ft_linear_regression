{
 "cells": [
  {
   "cell_type": "markdown",
   "metadata": {},
   "source": [
    "# Matrix computation\n",
    "\n",
    "## Model\n",
    "\n",
    "$$ F = X . \\theta $$\n",
    "We want a matrix as such: $$ F = \\begin{bmatrix} f(x_1) \\\\ f(x_2) \\\\ \\dots \\\\ f(x_m) \\end{bmatrix} $$\n",
    "With:\n",
    "$$ X =\\begin{bmatrix} x_1 & 1\\\\ x_2 & 1 \\\\ \\vdots & 1 \\\\ x_n & 1 \\\\ \\end{bmatrix} $$\n",
    "$$ \\theta = \\begin{bmatrix}a \\\\ b \\end{bmatrix} $$\n",
    "\n",
    "Matrix formats are:\n",
    "$$ F = m * 1 $$\n",
    "$$ X = m * (n + 1) $$\n",
    "$$ \\theta = (n + 1) * 1 $$\n",
    "\n",
    "With m = nb of data points and n the number of features (here only the mileage)"
   ]
  },
  {
   "cell_type": "markdown",
   "metadata": {},
   "source": [
    "## Cost Function\n",
    "\n",
    "$$ J(a, b) = \\frac{1}{2m} \\sum (ax + b - y)^2 $$\n",
    "becomes:\n",
    "$$ J(\\theta) = \\frac{1}{2m} \\sum (X\\theta - y)^2 $$"
   ]
  },
  {
   "cell_type": "markdown",
   "metadata": {},
   "source": [
    "## Gradient\n",
    "\n",
    "As a reminder: \n",
    "$$ \\frac{\\partial J(a, b)}{\\partial a} = \\frac{1}{m} \\sum_{i = 1}^m x_i (ax_i + b - y_i)$$\n",
    "$$ \\frac{\\partial J(a, b)}{\\partial b} = \\frac{1}{m} \\sum_{i = 1}^m (ax_i + b - y_i)$$\n",
    "Derivative functions would be set in a (n + 1) * 1:\n",
    "$$ \\frac{\\partial J(a, b)}{\\partial \\theta} =\\begin{bmatrix}  \\frac{\\partial J(a, b)}{\\partial a} \\\\ \\frac{\\partial J(a, b)}{\\partial b} \\end{bmatrix} $$\n",
    "Computation:\n",
    "$$ \\frac{\\partial J(a, b)}{\\partial \\theta} = \\frac{1}{m} X^T (X\\theta - Y) $$\n",
    "With:\n",
    "$$ X^T = \\begin{bmatrix} x_1 & x_2 & \\dots & x_m \\\\ 1 & 1 & \\dots & 1 \\end{bmatrix}"
   ]
  },
  {
   "cell_type": "markdown",
   "metadata": {},
   "source": [
    "## Gradient descent algorithm\n",
    "\n",
    "As a reminder:\n",
    "$$ a = a - \\alpha \\frac{\\partial J(a,b)}{\\partial a}$$\n",
    "$$ b = b - \\alpha \\frac{\\partial J(a,b)}{\\partial b}$$\n",
    "Let's put them in a (n + 1) * 1 matrix:\n",
    "$$ \\begin{bmatrix} a \\\\ b \\end{bmatrix} = \\begin{bmatrix} a - \\alpha \\frac{\\partial J(a,b)}{\\partial a} \\\\ b  - \\alpha \\frac{\\partial J(a,b)}{\\partial b} \\end{bmatrix} $$\n",
    "Which can be transfor to:\n",
    "$$ \\theta = \\theta - \\alpha \\frac{\\partial J}{\\partial \\theta} $$\n"
   ]
  }
 ],
 "metadata": {
  "language_info": {
   "name": "python"
  },
  "orig_nbformat": 4
 },
 "nbformat": 4,
 "nbformat_minor": 2
}
