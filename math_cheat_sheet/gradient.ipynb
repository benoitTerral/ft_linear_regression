{
 "cells": [
  {
   "cell_type": "markdown",
   "metadata": {},
   "source": [
    "# Gradient functions explanation"
   ]
  },
  {
   "cell_type": "markdown",
   "metadata": {},
   "source": [
    "As a reminder, the cost function is:\n",
    "$$ J(a, b) = \\frac{1}{2m} \\sum (ax + b - y)^2 $$\n",
    "J(a, b) is composed of two functions (g ◦ f)(a, b):\n",
    "$$ f(a, b) = ax + b$$\n",
    "$$ g(f) = f^2 $$\n",
    "As a reminder:\n",
    "$$ (g ◦ f)' = f' * g'(f) $$\n",
    "Therefore:\n",
    "$$ \\frac{\\partial J(a, b)}{\\partial a} = \\frac{1}{m} \\sum_{i = 1}^m x_i (ax_i + b - y_i)$$\n",
    "$$ \\frac{\\partial J(a, b)}{\\partial b} = \\frac{1}{m} \\sum_{i = 1}^m (ax_i + b - y_i)$$"
   ]
  }
 ],
 "metadata": {
  "language_info": {
   "name": "python"
  },
  "orig_nbformat": 4
 },
 "nbformat": 4,
 "nbformat_minor": 2
}
