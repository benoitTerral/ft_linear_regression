{
 "cells": [
  {
   "attachments": {},
   "cell_type": "markdown",
   "metadata": {},
   "source": [
    "# ft_linear_regression"
   ]
  },
  {
   "attachments": {},
   "cell_type": "markdown",
   "metadata": {},
   "source": [
    "## Aim of the project\n",
    "<p>The aim of this project is to introduce you to the basic concept behind machine learning.\n",
    "For this project, you will have to create a program that predicts the price of a car by\n",
    "using a linear function train with a gradient descent algorithm.</p>"
   ]
  },
  {
   "attachments": {},
   "cell_type": "markdown",
   "metadata": {},
   "source": [
    "### Import libraries"
   ]
  },
  {
   "cell_type": "code",
   "execution_count": 73,
   "metadata": {},
   "outputs": [],
   "source": [
    "import pandas as pd\n",
    "import numpy as np\n",
    "import matplotlib.pyplot as plt"
   ]
  },
  {
   "attachments": {},
   "cell_type": "markdown",
   "metadata": {},
   "source": [
    "### Load dataset"
   ]
  },
  {
   "cell_type": "code",
   "execution_count": 74,
   "metadata": {},
   "outputs": [],
   "source": [
    "df = pd.read_csv('data.csv')"
   ]
  },
  {
   "cell_type": "code",
   "execution_count": 75,
   "metadata": {},
   "outputs": [
    {
     "data": {
      "text/plain": [
       "Text(0.5, 1.0, 'Scatter Plot: km vs price')"
      ]
     },
     "execution_count": 75,
     "metadata": {},
     "output_type": "execute_result"
    },
    {
     "data": {
      "image/png": "[encoded data removed]",
      "text/plain": [
       "<Figure size 640x480 with 1 Axes>"
      ]
     },
     "metadata": {},
     "output_type": "display_data"
    }
   ],
   "source": [
    "df.shape\n",
    "df.head(24)\n",
    "plt.scatter(df['km'], df['price'])\n",
    "plt.xlabel('km')\n",
    "plt.ylabel('price')\n",
    "plt.title('Scatter Plot: km vs price')"
   ]
  },
  {
   "attachments": {},
   "cell_type": "markdown",
   "metadata": {},
   "source": [
    "- <strong>Dataset</strong>: feature = km, target = price, m=24, n=1\n",
    "- <strong>Model</strong>: at first, we don't a and b values, therefore we will start with random values $$f(x) = ax + b$$\n",
    "- <strong>Cost function (Mean sqared error)</strong>:\n",
    "\t- Convex function\n",
    "\t- Euclidian distance avoids negative values \n",
    "\t- Multiply by $ \\frac{1}{2} $ to simplify computation later $$J(a, b) = \\frac{1}{2m} \\sum_{i=1}^m (f(x_i) - y_i)^2$$\n",
    "- <strong>Gradients</strong>: $$ \\frac{\\partial J(a, b)}{\\partial a} = \\frac{1}{m} \\sum_{i = 1}^m x_i (ax_i + b - y_i)$$ $$ \\frac{\\partial J(a, b)}{\\partial b} = \\frac{1}{m} \\sum_{i = 1}^m (ax_i + b - y_i)$$\n",
    "- <strong>Gradient descent algorithm</strong>: $$ a = a - \\alpha \\frac{\\partial J(a,b)}{\\partial a}$$ $$ b = b - \\alpha \\frac{\\partial J(a,b)}{\\partial b}$$"
   ]
  },
  {
   "attachments": {},
   "cell_type": "markdown",
   "metadata": {},
   "source": [
    "### Derived gradient functions explanation"
   ]
  },
  {
   "attachments": {},
   "cell_type": "markdown",
   "metadata": {},
   "source": [
    "$$ J(a, b) = \\frac{1}{2m} \\sum (ax + b - y)^2 $$\n",
    "J(a, b) is composed of two functions (g ◦ f)(a, b):\n",
    "$$ f(a, b) = ax + b$$\n",
    "$$ g(f) = f^2 $$\n",
    "As a reminder:\n",
    "$$ (g ◦ f)' = f' * g'(f) $$"
   ]
  },
  {
   "attachments": {},
   "cell_type": "markdown",
   "metadata": {},
   "source": [
    "### Model matrix computation"
   ]
  },
  {
   "attachments": {},
   "cell_type": "markdown",
   "metadata": {},
   "source": [
    "$$ F = X . \\theta $$\n",
    "We want a matrix as such: $$ F = \\begin{bmatrix} f(x_1) \\\\ f(x_2) \\\\ \\dots \\\\ f(x_m) \\end{bmatrix} $$\n",
    "With:\n",
    "$$ X =\\begin{bmatrix} x_1 & 1\\\\ x_2 & 1 \\\\ \\vdots & 1 \\\\ x_n & 1 \\\\ \\end{bmatrix} $$\n",
    "$$ \\theta = \\begin{bmatrix}a \\\\ b \\end{bmatrix}"
   ]
  },
  {
   "attachments": {},
   "cell_type": "markdown",
   "metadata": {},
   "source": [
    "Matrix formats are:\n",
    "$$ F = m * 1 $$\n",
    "$$ X = m * (n + 1) $$\n",
    "$$ \\theta = (n + 1) * 1 $$"
   ]
  },
  {
   "attachments": {},
   "cell_type": "markdown",
   "metadata": {},
   "source": [
    "### Cost Function matrix computation"
   ]
  },
  {
   "attachments": {},
   "cell_type": "markdown",
   "metadata": {},
   "source": [
    "$$ J(a, b) = \\frac{1}{2m} \\sum (ax + b - y)^2 $$\n",
    "becomes:\n",
    "$$ J(\\theta) = \\frac{1}{2m} \\sum (X\\theta - y)^2 $$"
   ]
  },
  {
   "attachments": {},
   "cell_type": "markdown",
   "metadata": {},
   "source": [
    "### Gradient"
   ]
  },
  {
   "attachments": {},
   "cell_type": "markdown",
   "metadata": {},
   "source": [
    "As a reminder: \n",
    "$$ \\frac{\\partial J(a, b)}{\\partial a} = \\frac{1}{m} \\sum_{i = 1}^m x_i (ax_i + b - y_i)$$\n",
    "$$ \\frac{\\partial J(a, b)}{\\partial b} = \\frac{1}{m} \\sum_{i = 1}^m (ax_i + b - y_i)$$\n",
    "Derivative functions would be set in a (n + 1) * 1:\n",
    "$$ \\frac{\\partial J(a, b)}{\\partial \\theta} =\\begin{bmatrix}  \\frac{\\partial J(a, b)}{\\partial a} \\\\ \\frac{\\partial J(a, b)}{\\partial b} \\end{bmatrix} $$\n",
    "Computation:\n",
    "$$ \\frac{\\partial J(a, b)}{\\partial \\theta} = \\frac{1}{m} X^T (X\\theta - Y) $$\n",
    "With:\n",
    "$$ X^T = \\begin{bmatrix} x_1 & x_2 & \\dots & x_m \\\\ 1 & 1 & \\dots & 1 \\end{bmatrix}"
   ]
  },
  {
   "attachments": {},
   "cell_type": "markdown",
   "metadata": {},
   "source": [
    "### Gradient descent algorithm - Matrix computation"
   ]
  },
  {
   "attachments": {},
   "cell_type": "markdown",
   "metadata": {},
   "source": [
    "As a reminder:\n",
    "$$ a = a - \\alpha \\frac{\\partial J(a,b)}{\\partial a}$$\n",
    "$$ b = b - \\alpha \\frac{\\partial J(a,b)}{\\partial b}$$\n",
    "Let's put them in a (n + 1) * 1 matrix:\n",
    "$$ \\begin{bmatrix} a \\\\ b \\end{bmatrix} = \\begin{bmatrix} a - \\alpha \\frac{\\partial J(a,b)}{\\partial a} \\\\ b  - \\alpha \\frac{\\partial J(a,b)}{\\partial b} \\end{bmatrix} $$\n",
    "Which can be transfor to:\n",
    "$$ \\theta = \\theta - \\alpha \\frac{\\partial J}{\\partial \\theta} $$\n"
   ]
  },
  {
   "attachments": {},
   "cell_type": "markdown",
   "metadata": {},
   "source": [
    "## Apply formula to dataset"
   ]
  },
  {
   "cell_type": "code",
   "execution_count": 76,
   "metadata": {},
   "outputs": [],
   "source": [
    "from sklearn.datasets import make_regression"
   ]
  },
  {
   "cell_type": "code",
   "execution_count": 77,
   "metadata": {},
   "outputs": [
    {
     "name": "stdout",
     "output_type": "stream",
     "text": [
      "[1.         0.53846366 0.58774948 0.74910295 0.70520633 0.42330989\n",
      " 0.66282974 0.30447119 0.56011257 0.28144044 0.27236171 0.18498763\n",
      " 0.23537893 0.34362347 0.20313587 0.24470638 0.11670144 0.3228958\n",
      " 0.17526405 0.19702811 0.1432559  0.21004509 0.         0.17913321]\n",
      "[3650. 3800. 4400. 4450. 5250. 5350. 5800. 5990. 5999. 6200. 6390. 6390.\n",
      " 6600. 6800. 6800. 6900. 6900. 6990. 7490. 7555. 7990. 7990. 7990. 8290.]\n",
      "(24,)\n",
      "(24,)\n",
      "float64\n",
      "float64\n"
     ]
    }
   ],
   "source": [
    "x = np.array(df['km'], dtype = float)\n",
    "y = np.array(df['price'], dtype = float)\n",
    "x_min = np.min(x)\n",
    "x_range = np.max(x) - x_min\n",
    "x = (x - x_min) / x_range\n",
    "\n",
    "print(x)\n",
    "print(y)\n",
    "print(x.shape)\n",
    "print(y.shape)\n",
    "print(x.dtype)\n",
    "print(y.dtype)"
   ]
  },
  {
   "cell_type": "code",
   "execution_count": 78,
   "metadata": {},
   "outputs": [
    {
     "name": "stdout",
     "output_type": "stream",
     "text": [
      "[[1.         1.        ]\n",
      " [0.53846366 1.        ]\n",
      " [0.58774948 1.        ]\n",
      " [0.74910295 1.        ]\n",
      " [0.70520633 1.        ]\n",
      " [0.42330989 1.        ]\n",
      " [0.66282974 1.        ]\n",
      " [0.30447119 1.        ]\n",
      " [0.56011257 1.        ]\n",
      " [0.28144044 1.        ]\n",
      " [0.27236171 1.        ]\n",
      " [0.18498763 1.        ]\n",
      " [0.23537893 1.        ]\n",
      " [0.34362347 1.        ]\n",
      " [0.20313587 1.        ]\n",
      " [0.24470638 1.        ]\n",
      " [0.11670144 1.        ]\n",
      " [0.3228958  1.        ]\n",
      " [0.17526405 1.        ]\n",
      " [0.19702811 1.        ]\n",
      " [0.1432559  1.        ]\n",
      " [0.21004509 1.        ]\n",
      " [0.         1.        ]\n",
      " [0.17913321 1.        ]]\n",
      "[[3650.]\n",
      " [3800.]\n",
      " [4400.]\n",
      " [4450.]\n",
      " [5250.]\n",
      " [5350.]\n",
      " [5800.]\n",
      " [5990.]\n",
      " [5999.]\n",
      " [6200.]\n",
      " [6390.]\n",
      " [6390.]\n",
      " [6600.]\n",
      " [6800.]\n",
      " [6800.]\n",
      " [6900.]\n",
      " [6900.]\n",
      " [6990.]\n",
      " [7490.]\n",
      " [7555.]\n",
      " [7990.]\n",
      " [7990.]\n",
      " [7990.]\n",
      " [8290.]]\n",
      "(24, 2)\n",
      "(24, 1)\n"
     ]
    }
   ],
   "source": [
    "y = y.reshape(y.shape[0], 1)\n",
    "X = x.reshape(x.shape[0], 1)\n",
    "X = np.hstack((X, np.ones(X.shape)))\n",
    "print(X)\n",
    "print(y)\n",
    "print(X.shape)\n",
    "print(y.shape)"
   ]
  },
  {
   "cell_type": "code",
   "execution_count": 79,
   "metadata": {},
   "outputs": [
    {
     "name": "stdout",
     "output_type": "stream",
     "text": [
      "[[0.60004711]\n",
      " [0.08073751]]\n",
      "(2, 1)\n"
     ]
    }
   ],
   "source": [
    "theta = np.random.randn(2, 1)\n",
    "print(theta)\n",
    "print(theta.shape)"
   ]
  },
  {
   "cell_type": "code",
   "execution_count": 80,
   "metadata": {},
   "outputs": [],
   "source": [
    "def model(X, theta):\n",
    "\treturn X.dot(theta)"
   ]
  },
  {
   "cell_type": "code",
   "execution_count": 81,
   "metadata": {},
   "outputs": [
    {
     "data": {
      "text/plain": [
       "[<matplotlib.lines.Line2D at 0x7f7cbb0a1060>]"
      ]
     },
     "execution_count": 81,
     "metadata": {},
     "output_type": "execute_result"
    },
    {
     "data": {
      "image/png": "[encoded data removed]",
      "text/plain": [
       "<Figure size 640x480 with 1 Axes>"
      ]
     },
     "metadata": {},
     "output_type": "display_data"
    }
   ],
   "source": [
    "plt.scatter(x, y)\n",
    "plt.plot(x, model(X, theta))"
   ]
  },
  {
   "cell_type": "code",
   "execution_count": 82,
   "metadata": {},
   "outputs": [],
   "source": [
    "def cost_function(X, Y, theta):\n",
    "    m = len(Y)\n",
    "    return 1/(2*m) * np.sum((model(X, theta) - y) ** 2)"
   ]
  },
  {
   "cell_type": "code",
   "execution_count": 83,
   "metadata": {},
   "outputs": [
    {
     "data": {
      "text/plain": [
       "20878797.78697197"
      ]
     },
     "execution_count": 83,
     "metadata": {},
     "output_type": "execute_result"
    }
   ],
   "source": [
    "cost_function(X, y, theta)"
   ]
  },
  {
   "attachments": {},
   "cell_type": "markdown",
   "metadata": {},
   "source": [
    "### Gradients and gradient descent"
   ]
  },
  {
   "cell_type": "code",
   "execution_count": 84,
   "metadata": {},
   "outputs": [],
   "source": [
    "def grad(X, y, theta):\n",
    "\tm = len(y)\n",
    "\treturn 1/m * X.T.dot(model(X, theta) - y)"
   ]
  },
  {
   "cell_type": "code",
   "execution_count": 85,
   "metadata": {},
   "outputs": [],
   "source": [
    "def gradient_descent(X, y ,theta, learning_rate, n_iterations):\n",
    "    cost_history = np.zeros(n_iterations)\n",
    "    for i in range(0,  n_iterations):\n",
    "        theta = theta - learning_rate * grad(X, y, theta)\n",
    "        cost_history[i] = cost_function(X, y, theta)\n",
    "    return theta, cost_history"
   ]
  },
  {
   "attachments": {},
   "cell_type": "markdown",
   "metadata": {},
   "source": [
    "## Train the model"
   ]
  },
  {
   "cell_type": "code",
   "execution_count": 86,
   "metadata": {},
   "outputs": [
    {
     "name": "stdout",
     "output_type": "stream",
     "text": [
      "[[1.         1.        ]\n",
      " [0.53846366 1.        ]\n",
      " [0.58774948 1.        ]\n",
      " [0.74910295 1.        ]\n",
      " [0.70520633 1.        ]\n",
      " [0.42330989 1.        ]\n",
      " [0.66282974 1.        ]\n",
      " [0.30447119 1.        ]\n",
      " [0.56011257 1.        ]\n",
      " [0.28144044 1.        ]\n",
      " [0.27236171 1.        ]\n",
      " [0.18498763 1.        ]\n",
      " [0.23537893 1.        ]\n",
      " [0.34362347 1.        ]\n",
      " [0.20313587 1.        ]\n",
      " [0.24470638 1.        ]\n",
      " [0.11670144 1.        ]\n",
      " [0.3228958  1.        ]\n",
      " [0.17526405 1.        ]\n",
      " [0.19702811 1.        ]\n",
      " [0.1432559  1.        ]\n",
      " [0.21004509 1.        ]\n",
      " [0.         1.        ]\n",
      " [0.17913321 1.        ]]\n",
      "[[3650.]\n",
      " [3800.]\n",
      " [4400.]\n",
      " [4450.]\n",
      " [5250.]\n",
      " [5350.]\n",
      " [5800.]\n",
      " [5990.]\n",
      " [5999.]\n",
      " [6200.]\n",
      " [6390.]\n",
      " [6390.]\n",
      " [6600.]\n",
      " [6800.]\n",
      " [6800.]\n",
      " [6900.]\n",
      " [6900.]\n",
      " [6990.]\n",
      " [7490.]\n",
      " [7555.]\n",
      " [7990.]\n",
      " [7990.]\n",
      " [7990.]\n",
      " [8290.]]\n",
      "[[0.60004711]\n",
      " [0.08073751]]\n"
     ]
    }
   ],
   "source": [
    "print(X)\n",
    "print(y)\n",
    "print(theta)"
   ]
  },
  {
   "cell_type": "code",
   "execution_count": 87,
   "metadata": {},
   "outputs": [],
   "source": [
    "theta_final, cost_history = gradient_descent(X, y, theta, learning_rate \n",
    "                               = 0.5, n_iterations = 1000)"
   ]
  },
  {
   "cell_type": "code",
   "execution_count": 99,
   "metadata": {},
   "outputs": [
    {
     "data": {
      "text/plain": [
       "array([[-4656.59144464],\n",
       "       [ 8008.43983262]])"
      ]
     },
     "execution_count": 99,
     "metadata": {},
     "output_type": "execute_result"
    }
   ],
   "source": [
    "theta_final"
   ]
  },
  {
   "cell_type": "code",
   "execution_count": 89,
   "metadata": {},
   "outputs": [
    {
     "data": {
      "text/plain": [
       "222822.6225356367"
      ]
     },
     "execution_count": 89,
     "metadata": {},
     "output_type": "execute_result"
    }
   ],
   "source": [
    "cost_function(X, y, theta_final)"
   ]
  },
  {
   "cell_type": "code",
   "execution_count": 90,
   "metadata": {},
   "outputs": [],
   "source": [
    "predictions = model(X, theta_final)"
   ]
  },
  {
   "cell_type": "code",
   "execution_count": 91,
   "metadata": {},
   "outputs": [
    {
     "data": {
      "text/plain": [
       "[<matplotlib.lines.Line2D at 0x7f7cbaeefbe0>]"
      ]
     },
     "execution_count": 91,
     "metadata": {},
     "output_type": "execute_result"
    },
    {
     "data": {
      "image/png": "[encoded data removed]",
      "text/plain": [
       "<Figure size 640x480 with 1 Axes>"
      ]
     },
     "metadata": {},
     "output_type": "display_data"
    }
   ],
   "source": [
    "plt.scatter(df['km'], df['price'])\n",
    "plt.plot(df['km'], predictions)"
   ]
  },
  {
   "attachments": {},
   "cell_type": "markdown",
   "metadata": {},
   "source": [
    "## Estimate the price of a vehicle according to an input given mileage"
   ]
  },
  {
   "cell_type": "code",
   "execution_count": 101,
   "metadata": {},
   "outputs": [],
   "source": [
    "def estimate(estimation: float, theta: np.array = [[0],[0]]) -> float:\n",
    "\tuser_input_normalized = (estimation - x_min) / x_range\n",
    "\treturn user_input_normalized * theta[0] + theta[1]"
   ]
  },
  {
   "cell_type": "code",
   "execution_count": 104,
   "metadata": {},
   "outputs": [
    {
     "name": "stdout",
     "output_type": "stream",
     "text": [
      "[6912.37634414]\n"
     ]
    }
   ],
   "source": [
    "estimation = 74000.0\n",
    "price = estimate(estimation, theta_final)\n",
    "print(price)"
   ]
  },
  {
   "cell_type": "code",
   "execution_count": 94,
   "metadata": {},
   "outputs": [
    {
     "data": {
      "text/plain": [
       "[<matplotlib.lines.Line2D at 0x7f7cbaf4db10>]"
      ]
     },
     "execution_count": 94,
     "metadata": {},
     "output_type": "execute_result"
    },
    {
     "data": {
      "image/png": "[encoded data removed]",
      "text/plain": [
       "<Figure size 640x480 with 1 Axes>"
      ]
     },
     "metadata": {},
     "output_type": "display_data"
    }
   ],
   "source": [
    "plt.plot(range(1000), cost_history)"
   ]
  },
  {
   "cell_type": "code",
   "execution_count": 95,
   "metadata": {},
   "outputs": [],
   "source": [
    "def coeff_determination(y, pred):\n",
    "    u = ((y - pred) ** 2).sum()\n",
    "    v = ((y - y.mean())**2).sum()\n",
    "    return 1 - u / v"
   ]
  },
  {
   "cell_type": "code",
   "execution_count": 96,
   "metadata": {},
   "outputs": [
    {
     "data": {
      "text/plain": [
       "0.7329747078314965"
      ]
     },
     "execution_count": 96,
     "metadata": {},
     "output_type": "execute_result"
    }
   ],
   "source": [
    "coeff_determination(y, predictions)"
   ]
  }
 ],
 "metadata": {
  "kernelspec": {
   "display_name": "Python 3",
   "language": "python",
   "name": "python3"
  },
  "language_info": {
   "codemirror_mode": {
    "name": "ipython",
    "version": 3
   },
   "file_extension": ".py",
   "mimetype": "text/x-python",
   "name": "python",
   "nbconvert_exporter": "python",
   "pygments_lexer": "ipython3",
   "version": "3.10.6"
  },
  "orig_nbformat": 4
 },
 "nbformat": 4,
 "nbformat_minor": 2
}
