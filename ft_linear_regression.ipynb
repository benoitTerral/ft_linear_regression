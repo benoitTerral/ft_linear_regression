{
 "cells": [
  {
   "attachments": {},
   "cell_type": "markdown",
   "metadata": {},
   "source": [
    "# ft_linear_regression"
   ]
  },
  {
   "attachments": {},
   "cell_type": "markdown",
   "metadata": {},
   "source": [
    "## Aim of the project\n",
    "<p>The aim of this project is to introduce you to the basic concept behind machine learning.\n",
    "For this project, you will have to create a program that predicts the price of a car by\n",
    "using a linear function train with a gradient descent algorithm.</p>"
   ]
  },
  {
   "attachments": {},
   "cell_type": "markdown",
   "metadata": {},
   "source": [
    "### Import libraries"
   ]
  },
  {
   "cell_type": "code",
   "execution_count": 11,
   "metadata": {},
   "outputs": [],
   "source": [
    "import pandas as pd\n",
    "import numpy as np\n",
    "import matplotlib.pyplot as plt"
   ]
  },
  {
   "attachments": {},
   "cell_type": "markdown",
   "metadata": {},
   "source": [
    "### Load dataset"
   ]
  },
  {
   "cell_type": "code",
   "execution_count": 7,
   "metadata": {},
   "outputs": [],
   "source": [
    "df = pd.read_csv('data.csv')"
   ]
  },
  {
   "cell_type": "code",
   "execution_count": 12,
   "metadata": {},
   "outputs": [
    {
     "data": {
      "text/plain": [
       "Text(0.5, 1.0, 'Scatter Plot: km vs price')"
      ]
     },
     "execution_count": 12,
     "metadata": {},
     "output_type": "execute_result"
    },
    {
     "data": {
      "image/png": "[encoded data removed]",
      "text/plain": [
       "<Figure size 640x480 with 1 Axes>"
      ]
     },
     "metadata": {},
     "output_type": "display_data"
    }
   ],
   "source": [
    "df.shape\n",
    "df.head(24)\n",
    "plt.scatter(df['km'], df['price'])\n",
    "plt.xlabel('km')\n",
    "plt.ylabel('price')\n",
    "plt.title('Scatter Plot: km vs price')"
   ]
  },
  {
   "attachments": {},
   "cell_type": "markdown",
   "metadata": {},
   "source": [
    "- <strong>Dataset</strong>: feature = km, target = price, m=24, n=1\n",
    "- <strong>Model</strong>: at first, we don't a and b values, therefore we will start with random values $$f(x) = ax + b$$\n",
    "- <strong>Cost function (Mean sqared error)</strong>:\n",
    "\t- Convex function\n",
    "\t- Euclidian distance avoids negative values \n",
    "\t- Multiply by $ \\frac{1}{2} $ to simplify computation later $$J(a, b) = \\frac{1}{2m} \\sum_{i=1}^m (f(x_i) - y_i)^2$$\n",
    "- <strong>Gradients</strong>: $$ \\frac{\\partial J(a, b)}{\\partial a} = \\frac{1}{m} \\sum_{i = 1}^m x_i (ax_i + b - y_i)$$ $$ \\frac{\\partial J(a, b)}{\\partial b} = \\frac{1}{m} \\sum_{i = 1}^m (ax_i + b - y_i)$$\n",
    "- <strong>Gradient descent algorithm</strong>: $$ a = a - \\alpha \\frac{\\partial J(a,b)}{\\partial a}$$ $$ b = b - \\alpha \\frac{\\partial J(a,b)}{\\partial b}$$"
   ]
  },
  {
   "attachments": {},
   "cell_type": "markdown",
   "metadata": {},
   "source": [
    "### Derived gradient functions explanation"
   ]
  },
  {
   "attachments": {},
   "cell_type": "markdown",
   "metadata": {},
   "source": [
    "$$ J(a, b) = \\frac{1}{2m} \\sum (ax + b - y)^2 $$\n",
    "J(a, b) is composed of two functions (g ◦ f)(a, b):\n",
    "$$ f(a, b) = ax + b$$\n",
    "$$ g(f) = f^2 $$\n",
    "Derived function:\n",
    "$$ (g ◦ f)' = f' * g'(f) $$"
   ]
  },
  {
   "cell_type": "markdown",
   "metadata": {},
   "source": []
  }
 ],
 "metadata": {
  "kernelspec": {
   "display_name": "Python 3",
   "language": "python",
   "name": "python3"
  },
  "language_info": {
   "codemirror_mode": {
    "name": "ipython",
    "version": 3
   },
   "file_extension": ".py",
   "mimetype": "text/x-python",
   "name": "python",
   "nbconvert_exporter": "python",
   "pygments_lexer": "ipython3",
   "version": "3.10.6"
  },
  "orig_nbformat": 4
 },
 "nbformat": 4,
 "nbformat_minor": 2
}
